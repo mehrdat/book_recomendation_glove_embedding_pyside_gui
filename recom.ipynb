{
 "cells": [
  {
   "cell_type": "code",
   "execution_count": null,
   "metadata": {},
   "outputs": [],
   "source": [
    "import numpy as np\n",
    "import pandas as pd\n",
    "from sklearn.feature_extraction.text import TfidfVectorizer\n",
    "\n",
    "\n",
    "with open('glove.6B.100d.txt') as f:\n",
    "    text = f.read()\n",
    "\n",
    "print(text)\n",
    "\n",
    "# def glove_load(file_path):\n",
    "#     embeddings_index={}\n",
    "#     with open(file_path) as f:\n",
    "#         for line in f:\n",
    "#             values in line.split()"
   ]
  }
 ],
 "metadata": {
  "kernelspec": {
   "display_name": "me",
   "language": "python",
   "name": "python3"
  },
  "language_info": {
   "codemirror_mode": {
    "name": "ipython",
    "version": 3
   },
   "file_extension": ".py",
   "mimetype": "text/x-python",
   "name": "python",
   "nbconvert_exporter": "python",
   "pygments_lexer": "ipython3",
   "version": "3.11.7"
  }
 },
 "nbformat": 4,
 "nbformat_minor": 2
}
